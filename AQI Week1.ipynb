{
 "cells": [
  {
   "cell_type": "markdown",
   "id": "db3dfb30-2a94-4f6d-a8b8-6dfa2b5fe10c",
   "metadata": {},
   "source": [
    "AIR QUALITY INDEX PREDICTION"
   ]
  },
  {
   "cell_type": "markdown",
   "id": "cc5539da-05ca-4d9f-aefc-91a19951ed39",
   "metadata": {},
   "source": [
    "Volatile Organic Materials"
   ]
  },
  {
   "cell_type": "markdown",
   "id": "40fdeb42-83d3-49f2-8cc5-0db98dca633a",
   "metadata": {},
   "source": [
    "PM2.5\n",
    "PM10\n",
    "NO\n",
    "NO2\n",
    "NH3\n",
    "CO\n",
    "SO2\n",
    "O3\n",
    "Benzene\n",
    "Toluene\n",
    "Xylene  "
   ]
  },
  {
   "cell_type": "markdown",
   "id": "4b70ad36-d906-4899-896c-b11e3dd1ade9",
   "metadata": {},
   "source": [
    "VOCs → Benzene, Toluene, Xylene, \n",
    "PM (Particulate Matter) → PM2.5, PM10, \n",
    "Gaseous Pollutants (Not VOCs) → NO, NO2, NH3, CO, SO2, O3"
   ]
  },
  {
   "cell_type": "code",
   "execution_count": 2,
   "id": "ff5c90fa-a19f-4bca-8c4e-9ed18d520096",
   "metadata": {},
   "outputs": [
    {
     "name": "stdout",
     "output_type": "stream",
     "text": [
      "Requirement already satisfied: jupyter in /Users/swetha/anaconda3/lib/python3.10/site-packages (1.1.1)\n",
      "Requirement already satisfied: notebook in /Users/swetha/anaconda3/lib/python3.10/site-packages (from jupyter) (7.0.8)\n",
      "Requirement already satisfied: jupyter-console in /Users/swetha/anaconda3/lib/python3.10/site-packages (from jupyter) (6.6.3)\n",
      "Requirement already satisfied: nbconvert in /Users/swetha/anaconda3/lib/python3.10/site-packages (from jupyter) (7.10.0)\n",
      "Requirement already satisfied: ipykernel in /Users/swetha/anaconda3/lib/python3.10/site-packages (from jupyter) (6.28.0)\n",
      "Requirement already satisfied: ipywidgets in /Users/swetha/anaconda3/lib/python3.10/site-packages (from jupyter) (8.1.5)\n",
      "Requirement already satisfied: jupyterlab in /Users/swetha/anaconda3/lib/python3.10/site-packages (from jupyter) (4.0.11)\n",
      "Requirement already satisfied: appnope in /Users/swetha/anaconda3/lib/python3.10/site-packages (from ipykernel->jupyter) (0.1.2)\n",
      "Requirement already satisfied: comm>=0.1.1 in /Users/swetha/anaconda3/lib/python3.10/site-packages (from ipykernel->jupyter) (0.2.1)\n",
      "Requirement already satisfied: debugpy>=1.6.5 in /Users/swetha/anaconda3/lib/python3.10/site-packages (from ipykernel->jupyter) (1.6.7)\n",
      "Requirement already satisfied: ipython>=7.23.1 in /Users/swetha/anaconda3/lib/python3.10/site-packages (from ipykernel->jupyter) (8.8.0)\n",
      "Requirement already satisfied: jupyter-client>=6.1.12 in /Users/swetha/anaconda3/lib/python3.10/site-packages (from ipykernel->jupyter) (8.6.0)\n",
      "Requirement already satisfied: jupyter-core!=5.0.*,>=4.12 in /Users/swetha/anaconda3/lib/python3.10/site-packages (from ipykernel->jupyter) (5.5.0)\n",
      "Requirement already satisfied: matplotlib-inline>=0.1 in /Users/swetha/anaconda3/lib/python3.10/site-packages (from ipykernel->jupyter) (0.1.6)\n",
      "Requirement already satisfied: nest-asyncio in /Users/swetha/anaconda3/lib/python3.10/site-packages (from ipykernel->jupyter) (1.6.0)\n",
      "Requirement already satisfied: packaging in /Users/swetha/anaconda3/lib/python3.10/site-packages (from ipykernel->jupyter) (23.1)\n",
      "Requirement already satisfied: psutil in /Users/swetha/anaconda3/lib/python3.10/site-packages (from ipykernel->jupyter) (5.9.0)\n",
      "Requirement already satisfied: pyzmq>=24 in /Users/swetha/anaconda3/lib/python3.10/site-packages (from ipykernel->jupyter) (25.1.2)\n",
      "Requirement already satisfied: tornado>=6.1 in /Users/swetha/anaconda3/lib/python3.10/site-packages (from ipykernel->jupyter) (6.3.3)\n",
      "Requirement already satisfied: traitlets>=5.4.0 in /Users/swetha/anaconda3/lib/python3.10/site-packages (from ipykernel->jupyter) (5.7.1)\n",
      "Requirement already satisfied: widgetsnbextension~=4.0.12 in /Users/swetha/anaconda3/lib/python3.10/site-packages (from ipywidgets->jupyter) (4.0.13)\n",
      "Requirement already satisfied: jupyterlab-widgets~=3.0.12 in /Users/swetha/anaconda3/lib/python3.10/site-packages (from ipywidgets->jupyter) (3.0.13)\n",
      "Requirement already satisfied: prompt-toolkit>=3.0.30 in /Users/swetha/anaconda3/lib/python3.10/site-packages (from jupyter-console->jupyter) (3.0.50)\n",
      "Requirement already satisfied: pygments in /Users/swetha/anaconda3/lib/python3.10/site-packages (from jupyter-console->jupyter) (2.15.1)\n",
      "Requirement already satisfied: async-lru>=1.0.0 in /Users/swetha/anaconda3/lib/python3.10/site-packages (from jupyterlab->jupyter) (2.0.4)\n",
      "Requirement already satisfied: jinja2>=3.0.3 in /Users/swetha/anaconda3/lib/python3.10/site-packages (from jupyterlab->jupyter) (3.1.3)\n",
      "Requirement already satisfied: jupyter-lsp>=2.0.0 in /Users/swetha/anaconda3/lib/python3.10/site-packages (from jupyterlab->jupyter) (2.2.0)\n",
      "Requirement already satisfied: jupyter-server<3,>=2.4.0 in /Users/swetha/anaconda3/lib/python3.10/site-packages (from jupyterlab->jupyter) (2.10.0)\n",
      "Requirement already satisfied: jupyterlab-server<3,>=2.19.0 in /Users/swetha/anaconda3/lib/python3.10/site-packages (from jupyterlab->jupyter) (2.25.1)\n",
      "Requirement already satisfied: notebook-shim>=0.2 in /Users/swetha/anaconda3/lib/python3.10/site-packages (from jupyterlab->jupyter) (0.2.3)\n",
      "Requirement already satisfied: tomli in /Users/swetha/anaconda3/lib/python3.10/site-packages (from jupyterlab->jupyter) (2.0.1)\n",
      "Requirement already satisfied: beautifulsoup4 in /Users/swetha/anaconda3/lib/python3.10/site-packages (from nbconvert->jupyter) (4.12.2)\n",
      "Requirement already satisfied: bleach!=5.0.0 in /Users/swetha/anaconda3/lib/python3.10/site-packages (from nbconvert->jupyter) (4.1.0)\n",
      "Requirement already satisfied: defusedxml in /Users/swetha/anaconda3/lib/python3.10/site-packages (from nbconvert->jupyter) (0.7.1)\n",
      "Requirement already satisfied: jupyterlab-pygments in /Users/swetha/anaconda3/lib/python3.10/site-packages (from nbconvert->jupyter) (0.1.2)\n",
      "Requirement already satisfied: markupsafe>=2.0 in /Users/swetha/anaconda3/lib/python3.10/site-packages (from nbconvert->jupyter) (2.1.3)\n",
      "Requirement already satisfied: mistune<4,>=2.0.3 in /Users/swetha/anaconda3/lib/python3.10/site-packages (from nbconvert->jupyter) (2.0.4)\n",
      "Requirement already satisfied: nbclient>=0.5.0 in /Users/swetha/anaconda3/lib/python3.10/site-packages (from nbconvert->jupyter) (0.8.0)\n",
      "Requirement already satisfied: nbformat>=5.7 in /Users/swetha/anaconda3/lib/python3.10/site-packages (from nbconvert->jupyter) (5.9.2)\n",
      "Requirement already satisfied: pandocfilters>=1.4.1 in /Users/swetha/anaconda3/lib/python3.10/site-packages (from nbconvert->jupyter) (1.5.0)\n",
      "Requirement already satisfied: tinycss2 in /Users/swetha/anaconda3/lib/python3.10/site-packages (from nbconvert->jupyter) (1.2.1)\n",
      "Requirement already satisfied: typing-extensions>=4.0.0 in /Users/swetha/anaconda3/lib/python3.10/site-packages (from async-lru>=1.0.0->jupyterlab->jupyter) (4.12.2)\n",
      "Requirement already satisfied: six>=1.9.0 in /Users/swetha/anaconda3/lib/python3.10/site-packages (from bleach!=5.0.0->nbconvert->jupyter) (1.16.0)\n",
      "Requirement already satisfied: webencodings in /Users/swetha/anaconda3/lib/python3.10/site-packages (from bleach!=5.0.0->nbconvert->jupyter) (0.5.1)\n",
      "Requirement already satisfied: backcall in /Users/swetha/anaconda3/lib/python3.10/site-packages (from ipython>=7.23.1->ipykernel->jupyter) (0.2.0)\n",
      "Requirement already satisfied: decorator in /Users/swetha/anaconda3/lib/python3.10/site-packages (from ipython>=7.23.1->ipykernel->jupyter) (5.1.1)\n",
      "Requirement already satisfied: jedi>=0.16 in /Users/swetha/anaconda3/lib/python3.10/site-packages (from ipython>=7.23.1->ipykernel->jupyter) (0.18.1)\n",
      "Requirement already satisfied: pickleshare in /Users/swetha/anaconda3/lib/python3.10/site-packages (from ipython>=7.23.1->ipykernel->jupyter) (0.7.5)\n",
      "Requirement already satisfied: stack-data in /Users/swetha/anaconda3/lib/python3.10/site-packages (from ipython>=7.23.1->ipykernel->jupyter) (0.2.0)\n",
      "Requirement already satisfied: pexpect>4.3 in /Users/swetha/anaconda3/lib/python3.10/site-packages (from ipython>=7.23.1->ipykernel->jupyter) (4.8.0)\n",
      "Requirement already satisfied: python-dateutil>=2.8.2 in /Users/swetha/anaconda3/lib/python3.10/site-packages (from jupyter-client>=6.1.12->ipykernel->jupyter) (2.8.2)\n",
      "Requirement already satisfied: platformdirs>=2.5 in /Users/swetha/anaconda3/lib/python3.10/site-packages (from jupyter-core!=5.0.*,>=4.12->ipykernel->jupyter) (3.10.0)\n",
      "Requirement already satisfied: anyio>=3.1.0 in /Users/swetha/anaconda3/lib/python3.10/site-packages (from jupyter-server<3,>=2.4.0->jupyterlab->jupyter) (4.2.0)\n",
      "Requirement already satisfied: argon2-cffi in /Users/swetha/anaconda3/lib/python3.10/site-packages (from jupyter-server<3,>=2.4.0->jupyterlab->jupyter) (21.3.0)\n",
      "Requirement already satisfied: jupyter-events>=0.6.0 in /Users/swetha/anaconda3/lib/python3.10/site-packages (from jupyter-server<3,>=2.4.0->jupyterlab->jupyter) (0.8.0)\n",
      "Requirement already satisfied: jupyter-server-terminals in /Users/swetha/anaconda3/lib/python3.10/site-packages (from jupyter-server<3,>=2.4.0->jupyterlab->jupyter) (0.4.4)\n",
      "Requirement already satisfied: overrides in /Users/swetha/anaconda3/lib/python3.10/site-packages (from jupyter-server<3,>=2.4.0->jupyterlab->jupyter) (7.4.0)\n",
      "Requirement already satisfied: prometheus-client in /Users/swetha/anaconda3/lib/python3.10/site-packages (from jupyter-server<3,>=2.4.0->jupyterlab->jupyter) (0.14.1)\n",
      "Requirement already satisfied: send2trash>=1.8.2 in /Users/swetha/anaconda3/lib/python3.10/site-packages (from jupyter-server<3,>=2.4.0->jupyterlab->jupyter) (1.8.2)\n",
      "Requirement already satisfied: terminado>=0.8.3 in /Users/swetha/anaconda3/lib/python3.10/site-packages (from jupyter-server<3,>=2.4.0->jupyterlab->jupyter) (0.17.1)\n",
      "Requirement already satisfied: websocket-client in /Users/swetha/anaconda3/lib/python3.10/site-packages (from jupyter-server<3,>=2.4.0->jupyterlab->jupyter) (0.58.0)\n",
      "Requirement already satisfied: babel>=2.10 in /Users/swetha/anaconda3/lib/python3.10/site-packages (from jupyterlab-server<3,>=2.19.0->jupyterlab->jupyter) (2.11.0)\n",
      "Requirement already satisfied: json5>=0.9.0 in /Users/swetha/anaconda3/lib/python3.10/site-packages (from jupyterlab-server<3,>=2.19.0->jupyterlab->jupyter) (0.9.6)\n",
      "Requirement already satisfied: jsonschema>=4.18.0 in /Users/swetha/anaconda3/lib/python3.10/site-packages (from jupyterlab-server<3,>=2.19.0->jupyterlab->jupyter) (4.19.2)\n",
      "Requirement already satisfied: requests>=2.31 in /Users/swetha/anaconda3/lib/python3.10/site-packages (from jupyterlab-server<3,>=2.19.0->jupyterlab->jupyter) (2.31.0)\n",
      "Requirement already satisfied: fastjsonschema in /Users/swetha/anaconda3/lib/python3.10/site-packages (from nbformat>=5.7->nbconvert->jupyter) (2.16.2)\n",
      "Requirement already satisfied: wcwidth in /Users/swetha/anaconda3/lib/python3.10/site-packages (from prompt-toolkit>=3.0.30->jupyter-console->jupyter) (0.2.5)\n",
      "Requirement already satisfied: soupsieve>1.2 in /Users/swetha/anaconda3/lib/python3.10/site-packages (from beautifulsoup4->nbconvert->jupyter) (2.5)\n",
      "Requirement already satisfied: idna>=2.8 in /Users/swetha/anaconda3/lib/python3.10/site-packages (from anyio>=3.1.0->jupyter-server<3,>=2.4.0->jupyterlab->jupyter) (3.4)\n",
      "Requirement already satisfied: sniffio>=1.1 in /Users/swetha/anaconda3/lib/python3.10/site-packages (from anyio>=3.1.0->jupyter-server<3,>=2.4.0->jupyterlab->jupyter) (1.3.0)\n",
      "Requirement already satisfied: exceptiongroup>=1.0.2 in /Users/swetha/anaconda3/lib/python3.10/site-packages (from anyio>=3.1.0->jupyter-server<3,>=2.4.0->jupyterlab->jupyter) (1.2.0)\n",
      "Requirement already satisfied: pytz>=2015.7 in /Users/swetha/anaconda3/lib/python3.10/site-packages (from babel>=2.10->jupyterlab-server<3,>=2.19.0->jupyterlab->jupyter) (2023.3.post1)\n",
      "Requirement already satisfied: parso<0.9.0,>=0.8.0 in /Users/swetha/anaconda3/lib/python3.10/site-packages (from jedi>=0.16->ipython>=7.23.1->ipykernel->jupyter) (0.8.3)\n",
      "Requirement already satisfied: attrs>=22.2.0 in /Users/swetha/anaconda3/lib/python3.10/site-packages (from jsonschema>=4.18.0->jupyterlab-server<3,>=2.19.0->jupyterlab->jupyter) (23.1.0)\n",
      "Requirement already satisfied: jsonschema-specifications>=2023.03.6 in /Users/swetha/anaconda3/lib/python3.10/site-packages (from jsonschema>=4.18.0->jupyterlab-server<3,>=2.19.0->jupyterlab->jupyter) (2023.7.1)\n",
      "Requirement already satisfied: referencing>=0.28.4 in /Users/swetha/anaconda3/lib/python3.10/site-packages (from jsonschema>=4.18.0->jupyterlab-server<3,>=2.19.0->jupyterlab->jupyter) (0.30.2)\n",
      "Requirement already satisfied: rpds-py>=0.7.1 in /Users/swetha/anaconda3/lib/python3.10/site-packages (from jsonschema>=4.18.0->jupyterlab-server<3,>=2.19.0->jupyterlab->jupyter) (0.10.6)\n",
      "Requirement already satisfied: python-json-logger>=2.0.4 in /Users/swetha/anaconda3/lib/python3.10/site-packages (from jupyter-events>=0.6.0->jupyter-server<3,>=2.4.0->jupyterlab->jupyter) (2.0.7)\n",
      "Requirement already satisfied: pyyaml>=5.3 in /Users/swetha/anaconda3/lib/python3.10/site-packages (from jupyter-events>=0.6.0->jupyter-server<3,>=2.4.0->jupyterlab->jupyter) (6.0.1)\n",
      "Requirement already satisfied: rfc3339-validator in /Users/swetha/anaconda3/lib/python3.10/site-packages (from jupyter-events>=0.6.0->jupyter-server<3,>=2.4.0->jupyterlab->jupyter) (0.1.4)\n",
      "Requirement already satisfied: rfc3986-validator>=0.1.1 in /Users/swetha/anaconda3/lib/python3.10/site-packages (from jupyter-events>=0.6.0->jupyter-server<3,>=2.4.0->jupyterlab->jupyter) (0.1.1)\n",
      "Requirement already satisfied: ptyprocess>=0.5 in /Users/swetha/anaconda3/lib/python3.10/site-packages (from pexpect>4.3->ipython>=7.23.1->ipykernel->jupyter) (0.7.0)\n",
      "Requirement already satisfied: charset-normalizer<4,>=2 in /Users/swetha/anaconda3/lib/python3.10/site-packages (from requests>=2.31->jupyterlab-server<3,>=2.19.0->jupyterlab->jupyter) (2.0.4)\n",
      "Requirement already satisfied: urllib3<3,>=1.21.1 in /Users/swetha/anaconda3/lib/python3.10/site-packages (from requests>=2.31->jupyterlab-server<3,>=2.19.0->jupyterlab->jupyter) (2.1.0)\n",
      "Requirement already satisfied: certifi>=2017.4.17 in /Users/swetha/anaconda3/lib/python3.10/site-packages (from requests>=2.31->jupyterlab-server<3,>=2.19.0->jupyterlab->jupyter) (2024.2.2)\n",
      "Requirement already satisfied: argon2-cffi-bindings in /Users/swetha/anaconda3/lib/python3.10/site-packages (from argon2-cffi->jupyter-server<3,>=2.4.0->jupyterlab->jupyter) (21.2.0)\n",
      "Requirement already satisfied: executing in /Users/swetha/anaconda3/lib/python3.10/site-packages (from stack-data->ipython>=7.23.1->ipykernel->jupyter) (0.8.3)\n",
      "Requirement already satisfied: asttokens in /Users/swetha/anaconda3/lib/python3.10/site-packages (from stack-data->ipython>=7.23.1->ipykernel->jupyter) (2.0.5)\n",
      "Requirement already satisfied: pure-eval in /Users/swetha/anaconda3/lib/python3.10/site-packages (from stack-data->ipython>=7.23.1->ipykernel->jupyter) (0.2.2)\n",
      "Requirement already satisfied: fqdn in /Users/swetha/anaconda3/lib/python3.10/site-packages (from jsonschema[format-nongpl]>=4.18.0->jupyter-events>=0.6.0->jupyter-server<3,>=2.4.0->jupyterlab->jupyter) (1.5.1)\n",
      "Requirement already satisfied: isoduration in /Users/swetha/anaconda3/lib/python3.10/site-packages (from jsonschema[format-nongpl]>=4.18.0->jupyter-events>=0.6.0->jupyter-server<3,>=2.4.0->jupyterlab->jupyter) (20.11.0)\n",
      "Requirement already satisfied: jsonpointer>1.13 in /Users/swetha/anaconda3/lib/python3.10/site-packages (from jsonschema[format-nongpl]>=4.18.0->jupyter-events>=0.6.0->jupyter-server<3,>=2.4.0->jupyterlab->jupyter) (2.1)\n",
      "Requirement already satisfied: uri-template in /Users/swetha/anaconda3/lib/python3.10/site-packages (from jsonschema[format-nongpl]>=4.18.0->jupyter-events>=0.6.0->jupyter-server<3,>=2.4.0->jupyterlab->jupyter) (1.3.0)\n",
      "Requirement already satisfied: webcolors>=1.11 in /Users/swetha/anaconda3/lib/python3.10/site-packages (from jsonschema[format-nongpl]>=4.18.0->jupyter-events>=0.6.0->jupyter-server<3,>=2.4.0->jupyterlab->jupyter) (24.11.1)\n",
      "Requirement already satisfied: cffi>=1.0.1 in /Users/swetha/anaconda3/lib/python3.10/site-packages (from argon2-cffi-bindings->argon2-cffi->jupyter-server<3,>=2.4.0->jupyterlab->jupyter) (1.16.0)\n",
      "Requirement already satisfied: pycparser in /Users/swetha/anaconda3/lib/python3.10/site-packages (from cffi>=1.0.1->argon2-cffi-bindings->argon2-cffi->jupyter-server<3,>=2.4.0->jupyterlab->jupyter) (2.21)\n",
      "Requirement already satisfied: arrow>=0.15.0 in /Users/swetha/anaconda3/lib/python3.10/site-packages (from isoduration->jsonschema[format-nongpl]>=4.18.0->jupyter-events>=0.6.0->jupyter-server<3,>=2.4.0->jupyterlab->jupyter) (1.3.0)\n",
      "Requirement already satisfied: types-python-dateutil>=2.8.10 in /Users/swetha/anaconda3/lib/python3.10/site-packages (from arrow>=0.15.0->isoduration->jsonschema[format-nongpl]>=4.18.0->jupyter-events>=0.6.0->jupyter-server<3,>=2.4.0->jupyterlab->jupyter) (2.9.0.20241206)\n",
      "Note: you may need to restart the kernel to use updated packages.\n"
     ]
    }
   ],
   "source": [
    "pip install jupyter\n"
   ]
  },
  {
   "cell_type": "code",
   "execution_count": 3,
   "id": "4b94b4ff-de9b-40cc-94f5-f5e5692c336f",
   "metadata": {},
   "outputs": [
    {
     "name": "stdout",
     "output_type": "stream",
     "text": [
      "Requirement already satisfied: notebook in /Users/swetha/anaconda3/lib/python3.10/site-packages (7.0.8)\n",
      "Requirement already satisfied: jupyter-server<3,>=2.4.0 in /Users/swetha/anaconda3/lib/python3.10/site-packages (from notebook) (2.10.0)\n",
      "Requirement already satisfied: jupyterlab-server<3,>=2.22.1 in /Users/swetha/anaconda3/lib/python3.10/site-packages (from notebook) (2.25.1)\n",
      "Requirement already satisfied: jupyterlab<4.1,>=4.0.2 in /Users/swetha/anaconda3/lib/python3.10/site-packages (from notebook) (4.0.11)\n",
      "Requirement already satisfied: notebook-shim<0.3,>=0.2 in /Users/swetha/anaconda3/lib/python3.10/site-packages (from notebook) (0.2.3)\n",
      "Requirement already satisfied: tornado>=6.2.0 in /Users/swetha/anaconda3/lib/python3.10/site-packages (from notebook) (6.3.3)\n",
      "Requirement already satisfied: anyio>=3.1.0 in /Users/swetha/anaconda3/lib/python3.10/site-packages (from jupyter-server<3,>=2.4.0->notebook) (4.2.0)\n",
      "Requirement already satisfied: argon2-cffi in /Users/swetha/anaconda3/lib/python3.10/site-packages (from jupyter-server<3,>=2.4.0->notebook) (21.3.0)\n",
      "Requirement already satisfied: jinja2 in /Users/swetha/anaconda3/lib/python3.10/site-packages (from jupyter-server<3,>=2.4.0->notebook) (3.1.3)\n",
      "Requirement already satisfied: jupyter-client>=7.4.4 in /Users/swetha/anaconda3/lib/python3.10/site-packages (from jupyter-server<3,>=2.4.0->notebook) (8.6.0)\n",
      "Requirement already satisfied: jupyter-core!=5.0.*,>=4.12 in /Users/swetha/anaconda3/lib/python3.10/site-packages (from jupyter-server<3,>=2.4.0->notebook) (5.5.0)\n",
      "Requirement already satisfied: jupyter-events>=0.6.0 in /Users/swetha/anaconda3/lib/python3.10/site-packages (from jupyter-server<3,>=2.4.0->notebook) (0.8.0)\n",
      "Requirement already satisfied: jupyter-server-terminals in /Users/swetha/anaconda3/lib/python3.10/site-packages (from jupyter-server<3,>=2.4.0->notebook) (0.4.4)\n",
      "Requirement already satisfied: nbconvert>=6.4.4 in /Users/swetha/anaconda3/lib/python3.10/site-packages (from jupyter-server<3,>=2.4.0->notebook) (7.10.0)\n",
      "Requirement already satisfied: nbformat>=5.3.0 in /Users/swetha/anaconda3/lib/python3.10/site-packages (from jupyter-server<3,>=2.4.0->notebook) (5.9.2)\n",
      "Requirement already satisfied: overrides in /Users/swetha/anaconda3/lib/python3.10/site-packages (from jupyter-server<3,>=2.4.0->notebook) (7.4.0)\n",
      "Requirement already satisfied: packaging in /Users/swetha/anaconda3/lib/python3.10/site-packages (from jupyter-server<3,>=2.4.0->notebook) (23.1)\n",
      "Requirement already satisfied: prometheus-client in /Users/swetha/anaconda3/lib/python3.10/site-packages (from jupyter-server<3,>=2.4.0->notebook) (0.14.1)\n",
      "Requirement already satisfied: pyzmq>=24 in /Users/swetha/anaconda3/lib/python3.10/site-packages (from jupyter-server<3,>=2.4.0->notebook) (25.1.2)\n",
      "Requirement already satisfied: send2trash>=1.8.2 in /Users/swetha/anaconda3/lib/python3.10/site-packages (from jupyter-server<3,>=2.4.0->notebook) (1.8.2)\n",
      "Requirement already satisfied: terminado>=0.8.3 in /Users/swetha/anaconda3/lib/python3.10/site-packages (from jupyter-server<3,>=2.4.0->notebook) (0.17.1)\n",
      "Requirement already satisfied: traitlets>=5.6.0 in /Users/swetha/anaconda3/lib/python3.10/site-packages (from jupyter-server<3,>=2.4.0->notebook) (5.7.1)\n",
      "Requirement already satisfied: websocket-client in /Users/swetha/anaconda3/lib/python3.10/site-packages (from jupyter-server<3,>=2.4.0->notebook) (0.58.0)\n",
      "Requirement already satisfied: async-lru>=1.0.0 in /Users/swetha/anaconda3/lib/python3.10/site-packages (from jupyterlab<4.1,>=4.0.2->notebook) (2.0.4)\n",
      "Requirement already satisfied: ipykernel in /Users/swetha/anaconda3/lib/python3.10/site-packages (from jupyterlab<4.1,>=4.0.2->notebook) (6.28.0)\n",
      "Requirement already satisfied: jupyter-lsp>=2.0.0 in /Users/swetha/anaconda3/lib/python3.10/site-packages (from jupyterlab<4.1,>=4.0.2->notebook) (2.2.0)\n",
      "Requirement already satisfied: tomli in /Users/swetha/anaconda3/lib/python3.10/site-packages (from jupyterlab<4.1,>=4.0.2->notebook) (2.0.1)\n",
      "Requirement already satisfied: babel>=2.10 in /Users/swetha/anaconda3/lib/python3.10/site-packages (from jupyterlab-server<3,>=2.22.1->notebook) (2.11.0)\n",
      "Requirement already satisfied: json5>=0.9.0 in /Users/swetha/anaconda3/lib/python3.10/site-packages (from jupyterlab-server<3,>=2.22.1->notebook) (0.9.6)\n",
      "Requirement already satisfied: jsonschema>=4.18.0 in /Users/swetha/anaconda3/lib/python3.10/site-packages (from jupyterlab-server<3,>=2.22.1->notebook) (4.19.2)\n",
      "Requirement already satisfied: requests>=2.31 in /Users/swetha/anaconda3/lib/python3.10/site-packages (from jupyterlab-server<3,>=2.22.1->notebook) (2.31.0)\n",
      "Requirement already satisfied: idna>=2.8 in /Users/swetha/anaconda3/lib/python3.10/site-packages (from anyio>=3.1.0->jupyter-server<3,>=2.4.0->notebook) (3.4)\n",
      "Requirement already satisfied: sniffio>=1.1 in /Users/swetha/anaconda3/lib/python3.10/site-packages (from anyio>=3.1.0->jupyter-server<3,>=2.4.0->notebook) (1.3.0)\n",
      "Requirement already satisfied: exceptiongroup>=1.0.2 in /Users/swetha/anaconda3/lib/python3.10/site-packages (from anyio>=3.1.0->jupyter-server<3,>=2.4.0->notebook) (1.2.0)\n",
      "Requirement already satisfied: typing-extensions>=4.1 in /Users/swetha/anaconda3/lib/python3.10/site-packages (from anyio>=3.1.0->jupyter-server<3,>=2.4.0->notebook) (4.12.2)\n",
      "Requirement already satisfied: pytz>=2015.7 in /Users/swetha/anaconda3/lib/python3.10/site-packages (from babel>=2.10->jupyterlab-server<3,>=2.22.1->notebook) (2023.3.post1)\n",
      "Requirement already satisfied: MarkupSafe>=2.0 in /Users/swetha/anaconda3/lib/python3.10/site-packages (from jinja2->jupyter-server<3,>=2.4.0->notebook) (2.1.3)\n",
      "Requirement already satisfied: attrs>=22.2.0 in /Users/swetha/anaconda3/lib/python3.10/site-packages (from jsonschema>=4.18.0->jupyterlab-server<3,>=2.22.1->notebook) (23.1.0)\n",
      "Requirement already satisfied: jsonschema-specifications>=2023.03.6 in /Users/swetha/anaconda3/lib/python3.10/site-packages (from jsonschema>=4.18.0->jupyterlab-server<3,>=2.22.1->notebook) (2023.7.1)\n",
      "Requirement already satisfied: referencing>=0.28.4 in /Users/swetha/anaconda3/lib/python3.10/site-packages (from jsonschema>=4.18.0->jupyterlab-server<3,>=2.22.1->notebook) (0.30.2)\n",
      "Requirement already satisfied: rpds-py>=0.7.1 in /Users/swetha/anaconda3/lib/python3.10/site-packages (from jsonschema>=4.18.0->jupyterlab-server<3,>=2.22.1->notebook) (0.10.6)\n",
      "Requirement already satisfied: python-dateutil>=2.8.2 in /Users/swetha/anaconda3/lib/python3.10/site-packages (from jupyter-client>=7.4.4->jupyter-server<3,>=2.4.0->notebook) (2.8.2)\n",
      "Requirement already satisfied: platformdirs>=2.5 in /Users/swetha/anaconda3/lib/python3.10/site-packages (from jupyter-core!=5.0.*,>=4.12->jupyter-server<3,>=2.4.0->notebook) (3.10.0)\n",
      "Requirement already satisfied: python-json-logger>=2.0.4 in /Users/swetha/anaconda3/lib/python3.10/site-packages (from jupyter-events>=0.6.0->jupyter-server<3,>=2.4.0->notebook) (2.0.7)\n",
      "Requirement already satisfied: pyyaml>=5.3 in /Users/swetha/anaconda3/lib/python3.10/site-packages (from jupyter-events>=0.6.0->jupyter-server<3,>=2.4.0->notebook) (6.0.1)\n",
      "Requirement already satisfied: rfc3339-validator in /Users/swetha/anaconda3/lib/python3.10/site-packages (from jupyter-events>=0.6.0->jupyter-server<3,>=2.4.0->notebook) (0.1.4)\n",
      "Requirement already satisfied: rfc3986-validator>=0.1.1 in /Users/swetha/anaconda3/lib/python3.10/site-packages (from jupyter-events>=0.6.0->jupyter-server<3,>=2.4.0->notebook) (0.1.1)\n",
      "Requirement already satisfied: beautifulsoup4 in /Users/swetha/anaconda3/lib/python3.10/site-packages (from nbconvert>=6.4.4->jupyter-server<3,>=2.4.0->notebook) (4.12.2)\n",
      "Requirement already satisfied: bleach!=5.0.0 in /Users/swetha/anaconda3/lib/python3.10/site-packages (from nbconvert>=6.4.4->jupyter-server<3,>=2.4.0->notebook) (4.1.0)\n",
      "Requirement already satisfied: defusedxml in /Users/swetha/anaconda3/lib/python3.10/site-packages (from nbconvert>=6.4.4->jupyter-server<3,>=2.4.0->notebook) (0.7.1)\n",
      "Requirement already satisfied: jupyterlab-pygments in /Users/swetha/anaconda3/lib/python3.10/site-packages (from nbconvert>=6.4.4->jupyter-server<3,>=2.4.0->notebook) (0.1.2)\n",
      "Requirement already satisfied: mistune<4,>=2.0.3 in /Users/swetha/anaconda3/lib/python3.10/site-packages (from nbconvert>=6.4.4->jupyter-server<3,>=2.4.0->notebook) (2.0.4)\n",
      "Requirement already satisfied: nbclient>=0.5.0 in /Users/swetha/anaconda3/lib/python3.10/site-packages (from nbconvert>=6.4.4->jupyter-server<3,>=2.4.0->notebook) (0.8.0)\n",
      "Requirement already satisfied: pandocfilters>=1.4.1 in /Users/swetha/anaconda3/lib/python3.10/site-packages (from nbconvert>=6.4.4->jupyter-server<3,>=2.4.0->notebook) (1.5.0)\n",
      "Requirement already satisfied: pygments>=2.4.1 in /Users/swetha/anaconda3/lib/python3.10/site-packages (from nbconvert>=6.4.4->jupyter-server<3,>=2.4.0->notebook) (2.15.1)\n",
      "Requirement already satisfied: tinycss2 in /Users/swetha/anaconda3/lib/python3.10/site-packages (from nbconvert>=6.4.4->jupyter-server<3,>=2.4.0->notebook) (1.2.1)\n",
      "Requirement already satisfied: fastjsonschema in /Users/swetha/anaconda3/lib/python3.10/site-packages (from nbformat>=5.3.0->jupyter-server<3,>=2.4.0->notebook) (2.16.2)\n",
      "Requirement already satisfied: charset-normalizer<4,>=2 in /Users/swetha/anaconda3/lib/python3.10/site-packages (from requests>=2.31->jupyterlab-server<3,>=2.22.1->notebook) (2.0.4)\n",
      "Requirement already satisfied: urllib3<3,>=1.21.1 in /Users/swetha/anaconda3/lib/python3.10/site-packages (from requests>=2.31->jupyterlab-server<3,>=2.22.1->notebook) (2.1.0)\n",
      "Requirement already satisfied: certifi>=2017.4.17 in /Users/swetha/anaconda3/lib/python3.10/site-packages (from requests>=2.31->jupyterlab-server<3,>=2.22.1->notebook) (2024.2.2)\n",
      "Requirement already satisfied: ptyprocess in /Users/swetha/anaconda3/lib/python3.10/site-packages (from terminado>=0.8.3->jupyter-server<3,>=2.4.0->notebook) (0.7.0)\n",
      "Requirement already satisfied: argon2-cffi-bindings in /Users/swetha/anaconda3/lib/python3.10/site-packages (from argon2-cffi->jupyter-server<3,>=2.4.0->notebook) (21.2.0)\n",
      "Requirement already satisfied: appnope in /Users/swetha/anaconda3/lib/python3.10/site-packages (from ipykernel->jupyterlab<4.1,>=4.0.2->notebook) (0.1.2)\n",
      "Requirement already satisfied: comm>=0.1.1 in /Users/swetha/anaconda3/lib/python3.10/site-packages (from ipykernel->jupyterlab<4.1,>=4.0.2->notebook) (0.2.1)\n",
      "Requirement already satisfied: debugpy>=1.6.5 in /Users/swetha/anaconda3/lib/python3.10/site-packages (from ipykernel->jupyterlab<4.1,>=4.0.2->notebook) (1.6.7)\n",
      "Requirement already satisfied: ipython>=7.23.1 in /Users/swetha/anaconda3/lib/python3.10/site-packages (from ipykernel->jupyterlab<4.1,>=4.0.2->notebook) (8.8.0)\n",
      "Requirement already satisfied: matplotlib-inline>=0.1 in /Users/swetha/anaconda3/lib/python3.10/site-packages (from ipykernel->jupyterlab<4.1,>=4.0.2->notebook) (0.1.6)\n",
      "Requirement already satisfied: nest-asyncio in /Users/swetha/anaconda3/lib/python3.10/site-packages (from ipykernel->jupyterlab<4.1,>=4.0.2->notebook) (1.6.0)\n",
      "Requirement already satisfied: psutil in /Users/swetha/anaconda3/lib/python3.10/site-packages (from ipykernel->jupyterlab<4.1,>=4.0.2->notebook) (5.9.0)\n",
      "Requirement already satisfied: six in /Users/swetha/anaconda3/lib/python3.10/site-packages (from websocket-client->jupyter-server<3,>=2.4.0->notebook) (1.16.0)\n",
      "Requirement already satisfied: webencodings in /Users/swetha/anaconda3/lib/python3.10/site-packages (from bleach!=5.0.0->nbconvert>=6.4.4->jupyter-server<3,>=2.4.0->notebook) (0.5.1)\n",
      "Requirement already satisfied: backcall in /Users/swetha/anaconda3/lib/python3.10/site-packages (from ipython>=7.23.1->ipykernel->jupyterlab<4.1,>=4.0.2->notebook) (0.2.0)\n",
      "Requirement already satisfied: decorator in /Users/swetha/anaconda3/lib/python3.10/site-packages (from ipython>=7.23.1->ipykernel->jupyterlab<4.1,>=4.0.2->notebook) (5.1.1)\n",
      "Requirement already satisfied: jedi>=0.16 in /Users/swetha/anaconda3/lib/python3.10/site-packages (from ipython>=7.23.1->ipykernel->jupyterlab<4.1,>=4.0.2->notebook) (0.18.1)\n",
      "Requirement already satisfied: pickleshare in /Users/swetha/anaconda3/lib/python3.10/site-packages (from ipython>=7.23.1->ipykernel->jupyterlab<4.1,>=4.0.2->notebook) (0.7.5)\n",
      "Requirement already satisfied: prompt-toolkit<3.1.0,>=3.0.11 in /Users/swetha/anaconda3/lib/python3.10/site-packages (from ipython>=7.23.1->ipykernel->jupyterlab<4.1,>=4.0.2->notebook) (3.0.50)\n",
      "Requirement already satisfied: stack-data in /Users/swetha/anaconda3/lib/python3.10/site-packages (from ipython>=7.23.1->ipykernel->jupyterlab<4.1,>=4.0.2->notebook) (0.2.0)\n",
      "Requirement already satisfied: pexpect>4.3 in /Users/swetha/anaconda3/lib/python3.10/site-packages (from ipython>=7.23.1->ipykernel->jupyterlab<4.1,>=4.0.2->notebook) (4.8.0)\n",
      "Requirement already satisfied: fqdn in /Users/swetha/anaconda3/lib/python3.10/site-packages (from jsonschema[format-nongpl]>=4.18.0->jupyter-events>=0.6.0->jupyter-server<3,>=2.4.0->notebook) (1.5.1)\n",
      "Requirement already satisfied: isoduration in /Users/swetha/anaconda3/lib/python3.10/site-packages (from jsonschema[format-nongpl]>=4.18.0->jupyter-events>=0.6.0->jupyter-server<3,>=2.4.0->notebook) (20.11.0)\n",
      "Requirement already satisfied: jsonpointer>1.13 in /Users/swetha/anaconda3/lib/python3.10/site-packages (from jsonschema[format-nongpl]>=4.18.0->jupyter-events>=0.6.0->jupyter-server<3,>=2.4.0->notebook) (2.1)\n",
      "Requirement already satisfied: uri-template in /Users/swetha/anaconda3/lib/python3.10/site-packages (from jsonschema[format-nongpl]>=4.18.0->jupyter-events>=0.6.0->jupyter-server<3,>=2.4.0->notebook) (1.3.0)\n",
      "Requirement already satisfied: webcolors>=1.11 in /Users/swetha/anaconda3/lib/python3.10/site-packages (from jsonschema[format-nongpl]>=4.18.0->jupyter-events>=0.6.0->jupyter-server<3,>=2.4.0->notebook) (24.11.1)\n",
      "Requirement already satisfied: cffi>=1.0.1 in /Users/swetha/anaconda3/lib/python3.10/site-packages (from argon2-cffi-bindings->argon2-cffi->jupyter-server<3,>=2.4.0->notebook) (1.16.0)\n",
      "Requirement already satisfied: soupsieve>1.2 in /Users/swetha/anaconda3/lib/python3.10/site-packages (from beautifulsoup4->nbconvert>=6.4.4->jupyter-server<3,>=2.4.0->notebook) (2.5)\n",
      "Requirement already satisfied: pycparser in /Users/swetha/anaconda3/lib/python3.10/site-packages (from cffi>=1.0.1->argon2-cffi-bindings->argon2-cffi->jupyter-server<3,>=2.4.0->notebook) (2.21)\n",
      "Requirement already satisfied: parso<0.9.0,>=0.8.0 in /Users/swetha/anaconda3/lib/python3.10/site-packages (from jedi>=0.16->ipython>=7.23.1->ipykernel->jupyterlab<4.1,>=4.0.2->notebook) (0.8.3)\n",
      "Requirement already satisfied: wcwidth in /Users/swetha/anaconda3/lib/python3.10/site-packages (from prompt-toolkit<3.1.0,>=3.0.11->ipython>=7.23.1->ipykernel->jupyterlab<4.1,>=4.0.2->notebook) (0.2.5)\n",
      "Requirement already satisfied: arrow>=0.15.0 in /Users/swetha/anaconda3/lib/python3.10/site-packages (from isoduration->jsonschema[format-nongpl]>=4.18.0->jupyter-events>=0.6.0->jupyter-server<3,>=2.4.0->notebook) (1.3.0)\n",
      "Requirement already satisfied: executing in /Users/swetha/anaconda3/lib/python3.10/site-packages (from stack-data->ipython>=7.23.1->ipykernel->jupyterlab<4.1,>=4.0.2->notebook) (0.8.3)\n",
      "Requirement already satisfied: asttokens in /Users/swetha/anaconda3/lib/python3.10/site-packages (from stack-data->ipython>=7.23.1->ipykernel->jupyterlab<4.1,>=4.0.2->notebook) (2.0.5)\n",
      "Requirement already satisfied: pure-eval in /Users/swetha/anaconda3/lib/python3.10/site-packages (from stack-data->ipython>=7.23.1->ipykernel->jupyterlab<4.1,>=4.0.2->notebook) (0.2.2)\n",
      "Requirement already satisfied: types-python-dateutil>=2.8.10 in /Users/swetha/anaconda3/lib/python3.10/site-packages (from arrow>=0.15.0->isoduration->jsonschema[format-nongpl]>=4.18.0->jupyter-events>=0.6.0->jupyter-server<3,>=2.4.0->notebook) (2.9.0.20241206)\n",
      "Note: you may need to restart the kernel to use updated packages.\n"
     ]
    }
   ],
   "source": [
    "pip install notebook"
   ]
  },
  {
   "cell_type": "code",
   "execution_count": 4,
   "id": "bf6b7c86-aebc-48d1-8fcb-ab46bb12461b",
   "metadata": {},
   "outputs": [],
   "source": [
    "import numpy as np"
   ]
  },
  {
   "cell_type": "code",
   "execution_count": 5,
   "id": "05e1d664-b49b-4e24-a92e-60ed48be5e7e",
   "metadata": {},
   "outputs": [],
   "source": [
    "import pandas as pd"
   ]
  },
  {
   "cell_type": "code",
   "execution_count": 6,
   "id": "143cd62c-c362-46c7-a570-6c76c9af5301",
   "metadata": {},
   "outputs": [],
   "source": [
    "import matplotlib.pyplot as plt"
   ]
  },
  {
   "cell_type": "code",
   "execution_count": 7,
   "id": "f3584484-ac53-4b62-9551-a93fa1156d9e",
   "metadata": {},
   "outputs": [
    {
     "name": "stdout",
     "output_type": "stream",
     "text": [
      "Requirement already satisfied: seaborn in /Users/swetha/anaconda3/lib/python3.10/site-packages (0.13.2)\n",
      "Requirement already satisfied: numpy!=1.24.0,>=1.20 in /Users/swetha/anaconda3/lib/python3.10/site-packages (from seaborn) (1.26.4)\n",
      "Requirement already satisfied: pandas>=1.2 in /Users/swetha/anaconda3/lib/python3.10/site-packages (from seaborn) (2.2.1)\n",
      "Requirement already satisfied: matplotlib!=3.6.1,>=3.4 in /Users/swetha/anaconda3/lib/python3.10/site-packages (from seaborn) (3.8.3)\n",
      "Requirement already satisfied: contourpy>=1.0.1 in /Users/swetha/anaconda3/lib/python3.10/site-packages (from matplotlib!=3.6.1,>=3.4->seaborn) (1.2.0)\n",
      "Requirement already satisfied: cycler>=0.10 in /Users/swetha/anaconda3/lib/python3.10/site-packages (from matplotlib!=3.6.1,>=3.4->seaborn) (0.12.1)\n",
      "Requirement already satisfied: fonttools>=4.22.0 in /Users/swetha/anaconda3/lib/python3.10/site-packages (from matplotlib!=3.6.1,>=3.4->seaborn) (4.50.0)\n",
      "Requirement already satisfied: kiwisolver>=1.3.1 in /Users/swetha/anaconda3/lib/python3.10/site-packages (from matplotlib!=3.6.1,>=3.4->seaborn) (1.4.5)\n",
      "Requirement already satisfied: packaging>=20.0 in /Users/swetha/anaconda3/lib/python3.10/site-packages (from matplotlib!=3.6.1,>=3.4->seaborn) (23.1)\n",
      "Requirement already satisfied: pillow>=8 in /Users/swetha/anaconda3/lib/python3.10/site-packages (from matplotlib!=3.6.1,>=3.4->seaborn) (10.2.0)\n",
      "Requirement already satisfied: pyparsing>=2.3.1 in /Users/swetha/anaconda3/lib/python3.10/site-packages (from matplotlib!=3.6.1,>=3.4->seaborn) (3.1.2)\n",
      "Requirement already satisfied: python-dateutil>=2.7 in /Users/swetha/anaconda3/lib/python3.10/site-packages (from matplotlib!=3.6.1,>=3.4->seaborn) (2.8.2)\n",
      "Requirement already satisfied: pytz>=2020.1 in /Users/swetha/anaconda3/lib/python3.10/site-packages (from pandas>=1.2->seaborn) (2023.3.post1)\n",
      "Requirement already satisfied: tzdata>=2022.7 in /Users/swetha/anaconda3/lib/python3.10/site-packages (from pandas>=1.2->seaborn) (2024.1)\n",
      "Requirement already satisfied: six>=1.5 in /Users/swetha/anaconda3/lib/python3.10/site-packages (from python-dateutil>=2.7->matplotlib!=3.6.1,>=3.4->seaborn) (1.16.0)\n",
      "Note: you may need to restart the kernel to use updated packages.\n"
     ]
    }
   ],
   "source": [
    "pip install seaborn"
   ]
  },
  {
   "cell_type": "code",
   "execution_count": 8,
   "id": "de9ed181-065d-4337-8ce8-6f5a3a464378",
   "metadata": {},
   "outputs": [
    {
     "name": "stdout",
     "output_type": "stream",
     "text": [
      "Requirement already satisfied: pip in /Users/swetha/anaconda3/lib/python3.10/site-packages (25.0.1)\n",
      "Note: you may need to restart the kernel to use updated packages.\n"
     ]
    }
   ],
   "source": [
    "pip install --upgrade pip"
   ]
  },
  {
   "cell_type": "code",
   "execution_count": 9,
   "id": "8f4c4c59-a084-4d70-8763-bb9d5204a3a1",
   "metadata": {},
   "outputs": [],
   "source": [
    "import seaborn as sns"
   ]
  },
  {
   "cell_type": "code",
   "execution_count": 10,
   "id": "574f0c01-5bea-4548-82a9-9192e536b1fe",
   "metadata": {},
   "outputs": [],
   "source": [
    "from warnings import filterwarnings\n",
    "filterwarnings('ignore')\n"
   ]
  },
  {
   "cell_type": "code",
   "execution_count": 11,
   "id": "d8d4dd6e-9df5-4a9d-be72-5568d339f851",
   "metadata": {},
   "outputs": [],
   "source": [
    "df= pd.read_csv('air quality data.csv')"
   ]
  },
  {
   "cell_type": "code",
   "execution_count": 25,
   "id": "d25cc48a-62cc-487f-bed4-bd105b8b783d",
   "metadata": {},
   "outputs": [
    {
     "data": {
      "text/html": [
       "<div>\n",
       "<style scoped>\n",
       "    .dataframe tbody tr th:only-of-type {\n",
       "        vertical-align: middle;\n",
       "    }\n",
       "\n",
       "    .dataframe tbody tr th {\n",
       "        vertical-align: top;\n",
       "    }\n",
       "\n",
       "    .dataframe thead th {\n",
       "        text-align: right;\n",
       "    }\n",
       "</style>\n",
       "<table border=\"1\" class=\"dataframe\">\n",
       "  <thead>\n",
       "    <tr style=\"text-align: right;\">\n",
       "      <th></th>\n",
       "      <th>City</th>\n",
       "      <th>Date</th>\n",
       "      <th>PM2.5</th>\n",
       "      <th>PM10</th>\n",
       "      <th>NO</th>\n",
       "      <th>NO2</th>\n",
       "      <th>NOx</th>\n",
       "      <th>NH3</th>\n",
       "      <th>CO</th>\n",
       "      <th>SO2</th>\n",
       "      <th>O3</th>\n",
       "      <th>Benzene</th>\n",
       "      <th>Toluene</th>\n",
       "      <th>Xylene</th>\n",
       "      <th>AQI</th>\n",
       "      <th>AQI_Bucket</th>\n",
       "    </tr>\n",
       "  </thead>\n",
       "  <tbody>\n",
       "    <tr>\n",
       "      <th>28</th>\n",
       "      <td>Ahmedabad</td>\n",
       "      <td>2015-01-29</td>\n",
       "      <td>83.13</td>\n",
       "      <td>NaN</td>\n",
       "      <td>6.93</td>\n",
       "      <td>28.71</td>\n",
       "      <td>33.72</td>\n",
       "      <td>NaN</td>\n",
       "      <td>6.93</td>\n",
       "      <td>49.52</td>\n",
       "      <td>59.76</td>\n",
       "      <td>0.02</td>\n",
       "      <td>0.00</td>\n",
       "      <td>3.14</td>\n",
       "      <td>209.0</td>\n",
       "      <td>Poor</td>\n",
       "    </tr>\n",
       "    <tr>\n",
       "      <th>29</th>\n",
       "      <td>Ahmedabad</td>\n",
       "      <td>2015-01-30</td>\n",
       "      <td>79.84</td>\n",
       "      <td>NaN</td>\n",
       "      <td>13.85</td>\n",
       "      <td>28.68</td>\n",
       "      <td>41.08</td>\n",
       "      <td>NaN</td>\n",
       "      <td>13.85</td>\n",
       "      <td>48.49</td>\n",
       "      <td>97.07</td>\n",
       "      <td>0.04</td>\n",
       "      <td>0.00</td>\n",
       "      <td>4.81</td>\n",
       "      <td>328.0</td>\n",
       "      <td>Very Poor</td>\n",
       "    </tr>\n",
       "    <tr>\n",
       "      <th>30</th>\n",
       "      <td>Ahmedabad</td>\n",
       "      <td>2015-01-31</td>\n",
       "      <td>94.52</td>\n",
       "      <td>NaN</td>\n",
       "      <td>24.39</td>\n",
       "      <td>32.66</td>\n",
       "      <td>52.61</td>\n",
       "      <td>NaN</td>\n",
       "      <td>24.39</td>\n",
       "      <td>67.39</td>\n",
       "      <td>111.33</td>\n",
       "      <td>0.24</td>\n",
       "      <td>0.01</td>\n",
       "      <td>7.67</td>\n",
       "      <td>514.0</td>\n",
       "      <td>Severe</td>\n",
       "    </tr>\n",
       "    <tr>\n",
       "      <th>31</th>\n",
       "      <td>Ahmedabad</td>\n",
       "      <td>2015-02-01</td>\n",
       "      <td>135.99</td>\n",
       "      <td>NaN</td>\n",
       "      <td>43.48</td>\n",
       "      <td>42.08</td>\n",
       "      <td>84.57</td>\n",
       "      <td>NaN</td>\n",
       "      <td>43.48</td>\n",
       "      <td>75.23</td>\n",
       "      <td>102.70</td>\n",
       "      <td>0.40</td>\n",
       "      <td>0.04</td>\n",
       "      <td>25.87</td>\n",
       "      <td>782.0</td>\n",
       "      <td>Severe</td>\n",
       "    </tr>\n",
       "    <tr>\n",
       "      <th>32</th>\n",
       "      <td>Ahmedabad</td>\n",
       "      <td>2015-02-02</td>\n",
       "      <td>178.33</td>\n",
       "      <td>NaN</td>\n",
       "      <td>54.56</td>\n",
       "      <td>35.31</td>\n",
       "      <td>72.80</td>\n",
       "      <td>NaN</td>\n",
       "      <td>54.56</td>\n",
       "      <td>55.04</td>\n",
       "      <td>107.38</td>\n",
       "      <td>0.46</td>\n",
       "      <td>0.06</td>\n",
       "      <td>35.61</td>\n",
       "      <td>914.0</td>\n",
       "      <td>Severe</td>\n",
       "    </tr>\n",
       "  </tbody>\n",
       "</table>\n",
       "</div>"
      ],
      "text/plain": [
       "         City        Date   PM2.5  PM10     NO    NO2    NOx  NH3     CO  \\\n",
       "28  Ahmedabad  2015-01-29   83.13   NaN   6.93  28.71  33.72  NaN   6.93   \n",
       "29  Ahmedabad  2015-01-30   79.84   NaN  13.85  28.68  41.08  NaN  13.85   \n",
       "30  Ahmedabad  2015-01-31   94.52   NaN  24.39  32.66  52.61  NaN  24.39   \n",
       "31  Ahmedabad  2015-02-01  135.99   NaN  43.48  42.08  84.57  NaN  43.48   \n",
       "32  Ahmedabad  2015-02-02  178.33   NaN  54.56  35.31  72.80  NaN  54.56   \n",
       "\n",
       "      SO2      O3  Benzene  Toluene  Xylene    AQI AQI_Bucket  \n",
       "28  49.52   59.76     0.02     0.00    3.14  209.0       Poor  \n",
       "29  48.49   97.07     0.04     0.00    4.81  328.0  Very Poor  \n",
       "30  67.39  111.33     0.24     0.01    7.67  514.0     Severe  \n",
       "31  75.23  102.70     0.40     0.04   25.87  782.0     Severe  \n",
       "32  55.04  107.38     0.46     0.06   35.61  914.0     Severe  "
      ]
     },
     "execution_count": 25,
     "metadata": {},
     "output_type": "execute_result"
    }
   ],
   "source": [
    "df.head() #top 5 rows"
   ]
  },
  {
   "cell_type": "code",
   "execution_count": 13,
   "id": "2c08cf02-db19-4ef1-9ec1-ca4ffbc69bcc",
   "metadata": {},
   "outputs": [
    {
     "data": {
      "text/plain": [
       "(29531, 16)"
      ]
     },
     "execution_count": 13,
     "metadata": {},
     "output_type": "execute_result"
    }
   ],
   "source": [
    "df.shape"
   ]
  },
  {
   "cell_type": "code",
   "execution_count": 26,
   "id": "1dcffa8a-5c80-4f11-9e5d-a99862bb3a7c",
   "metadata": {},
   "outputs": [
    {
     "data": {
      "text/plain": [
       "<bound method DataFrame.info of                 City        Date   PM2.5   PM10     NO    NO2    NOx    NH3  \\\n",
       "28         Ahmedabad  2015-01-29   83.13    NaN   6.93  28.71  33.72    NaN   \n",
       "29         Ahmedabad  2015-01-30   79.84    NaN  13.85  28.68  41.08    NaN   \n",
       "30         Ahmedabad  2015-01-31   94.52    NaN  24.39  32.66  52.61    NaN   \n",
       "31         Ahmedabad  2015-02-01  135.99    NaN  43.48  42.08  84.57    NaN   \n",
       "32         Ahmedabad  2015-02-02  178.33    NaN  54.56  35.31  72.80    NaN   \n",
       "...              ...         ...     ...    ...    ...    ...    ...    ...   \n",
       "29526  Visakhapatnam  2020-06-27   15.02  50.94   7.68  25.06  19.54  12.47   \n",
       "29527  Visakhapatnam  2020-06-28   24.38  74.09   3.42  26.06  16.53  11.99   \n",
       "29528  Visakhapatnam  2020-06-29   22.91  65.73   3.45  29.53  18.33  10.71   \n",
       "29529  Visakhapatnam  2020-06-30   16.64  49.97   4.05  29.26  18.80  10.03   \n",
       "29530  Visakhapatnam  2020-07-01   15.00  66.00   0.40  26.85  14.05   5.20   \n",
       "\n",
       "          CO    SO2      O3  Benzene  Toluene  Xylene    AQI    AQI_Bucket  \n",
       "28      6.93  49.52   59.76     0.02     0.00    3.14  209.0          Poor  \n",
       "29     13.85  48.49   97.07     0.04     0.00    4.81  328.0     Very Poor  \n",
       "30     24.39  67.39  111.33     0.24     0.01    7.67  514.0        Severe  \n",
       "31     43.48  75.23  102.70     0.40     0.04   25.87  782.0        Severe  \n",
       "32     54.56  55.04  107.38     0.46     0.06   35.61  914.0        Severe  \n",
       "...      ...    ...     ...      ...      ...     ...    ...           ...  \n",
       "29526   0.47   8.55   23.30     2.24    12.07    0.73   41.0          Good  \n",
       "29527   0.52  12.72   30.14     0.74     2.21    0.38   70.0  Satisfactory  \n",
       "29528   0.48   8.42   30.96     0.01     0.01    0.00   68.0  Satisfactory  \n",
       "29529   0.52   9.84   28.30     0.00     0.00    0.00   54.0  Satisfactory  \n",
       "29530   0.59   2.10   17.05      NaN      NaN     NaN   50.0          Good  \n",
       "\n",
       "[24850 rows x 16 columns]>"
      ]
     },
     "execution_count": 26,
     "metadata": {},
     "output_type": "execute_result"
    }
   ],
   "source": [
    "df.info #information"
   ]
  },
  {
   "cell_type": "code",
   "execution_count": 27,
   "id": "5c8ba9db-4f21-4297-a8cd-2b0775b77a8a",
   "metadata": {},
   "outputs": [
    {
     "data": {
      "text/plain": [
       "0"
      ]
     },
     "execution_count": 27,
     "metadata": {},
     "output_type": "execute_result"
    }
   ],
   "source": [
    "df.duplicated().sum() #to know the duplicate values"
   ]
  },
  {
   "cell_type": "code",
   "execution_count": 16,
   "id": "8756fe46-5647-4ca0-b6f8-c6bc13cd1ded",
   "metadata": {},
   "outputs": [
    {
     "data": {
      "text/plain": [
       "City              0\n",
       "Date              0\n",
       "PM2.5          4598\n",
       "PM10          11140\n",
       "NO             3582\n",
       "NO2            3585\n",
       "NOx            4185\n",
       "NH3           10328\n",
       "CO             2059\n",
       "SO2            3854\n",
       "O3             4022\n",
       "Benzene        5623\n",
       "Toluene        8041\n",
       "Xylene        18109\n",
       "AQI            4681\n",
       "AQI_Bucket     4681\n",
       "dtype: int64"
      ]
     },
     "execution_count": 16,
     "metadata": {},
     "output_type": "execute_result"
    }
   ],
   "source": [
    "df.isnull().sum()"
   ]
  },
  {
   "cell_type": "code",
   "execution_count": 29,
   "id": "ecb6addc-be8b-4a96-94cb-0c892659991f",
   "metadata": {},
   "outputs": [],
   "source": [
    "df.dropna(subset=['AQI'],inplace= True) #dropping the rows where aqi has missing values"
   ]
  },
  {
   "cell_type": "code",
   "execution_count": 28,
   "id": "e10ca972-f3fe-444f-b178-308526d5eda6",
   "metadata": {},
   "outputs": [
    {
     "data": {
      "text/plain": [
       "Xylene        15372\n",
       "PM10           7086\n",
       "NH3            6536\n",
       "Toluene        5826\n",
       "Benzene        3535\n",
       "NOx            1857\n",
       "O3              807\n",
       "PM2.5           678\n",
       "SO2             605\n",
       "CO              445\n",
       "NO2             391\n",
       "NO              387\n",
       "City              0\n",
       "Date              0\n",
       "AQI               0\n",
       "AQI_Bucket        0\n",
       "dtype: int64"
      ]
     },
     "execution_count": 28,
     "metadata": {},
     "output_type": "execute_result"
    }
   ],
   "source": [
    "df.isnull().sum().sort_values(ascending=False) #checking missing values"
   ]
  },
  {
   "cell_type": "code",
   "execution_count": 30,
   "id": "b3137b93-add4-415a-a9be-3ec1f4ced31c",
   "metadata": {},
   "outputs": [
    {
     "data": {
      "text/plain": [
       "(24850, 16)"
      ]
     },
     "execution_count": 30,
     "metadata": {},
     "output_type": "execute_result"
    }
   ],
   "source": [
    "df.shape #changed"
   ]
  },
  {
   "cell_type": "code",
   "execution_count": 20,
   "id": "481b0500-b47a-4923-914a-a6592a15a9e1",
   "metadata": {},
   "outputs": [
    {
     "name": "stdout",
     "output_type": "stream",
     "text": [
      "City           object\n",
      "Date           object\n",
      "PM2.5         float64\n",
      "PM10          float64\n",
      "NO            float64\n",
      "NO2           float64\n",
      "NOx           float64\n",
      "NH3           float64\n",
      "CO            float64\n",
      "SO2           float64\n",
      "O3            float64\n",
      "Benzene       float64\n",
      "Toluene       float64\n",
      "Xylene        float64\n",
      "AQI           float64\n",
      "AQI_Bucket     object\n",
      "dtype: object\n"
     ]
    }
   ],
   "source": [
    "print(df.dtypes)"
   ]
  },
  {
   "cell_type": "code",
   "execution_count": 31,
   "id": "5f1438bd-1e56-47b7-9577-03d3a36ba7b4",
   "metadata": {},
   "outputs": [
    {
     "data": {
      "text/html": [
       "<div>\n",
       "<style scoped>\n",
       "    .dataframe tbody tr th:only-of-type {\n",
       "        vertical-align: middle;\n",
       "    }\n",
       "\n",
       "    .dataframe tbody tr th {\n",
       "        vertical-align: top;\n",
       "    }\n",
       "\n",
       "    .dataframe thead th {\n",
       "        text-align: right;\n",
       "    }\n",
       "</style>\n",
       "<table border=\"1\" class=\"dataframe\">\n",
       "  <thead>\n",
       "    <tr style=\"text-align: right;\">\n",
       "      <th></th>\n",
       "      <th>count</th>\n",
       "      <th>mean</th>\n",
       "      <th>std</th>\n",
       "      <th>min</th>\n",
       "      <th>25%</th>\n",
       "      <th>50%</th>\n",
       "      <th>75%</th>\n",
       "      <th>max</th>\n",
       "    </tr>\n",
       "  </thead>\n",
       "  <tbody>\n",
       "    <tr>\n",
       "      <th>PM2.5</th>\n",
       "      <td>24172.0</td>\n",
       "      <td>67.476613</td>\n",
       "      <td>63.075398</td>\n",
       "      <td>0.04</td>\n",
       "      <td>29.0000</td>\n",
       "      <td>48.785</td>\n",
       "      <td>80.9250</td>\n",
       "      <td>914.94</td>\n",
       "    </tr>\n",
       "    <tr>\n",
       "      <th>PM10</th>\n",
       "      <td>17764.0</td>\n",
       "      <td>118.454435</td>\n",
       "      <td>89.487976</td>\n",
       "      <td>0.03</td>\n",
       "      <td>56.7775</td>\n",
       "      <td>96.180</td>\n",
       "      <td>150.1825</td>\n",
       "      <td>917.08</td>\n",
       "    </tr>\n",
       "    <tr>\n",
       "      <th>NO</th>\n",
       "      <td>24463.0</td>\n",
       "      <td>17.622421</td>\n",
       "      <td>22.421138</td>\n",
       "      <td>0.03</td>\n",
       "      <td>5.6600</td>\n",
       "      <td>9.910</td>\n",
       "      <td>20.0300</td>\n",
       "      <td>390.68</td>\n",
       "    </tr>\n",
       "    <tr>\n",
       "      <th>NO2</th>\n",
       "      <td>24459.0</td>\n",
       "      <td>28.978391</td>\n",
       "      <td>24.627054</td>\n",
       "      <td>0.01</td>\n",
       "      <td>11.9400</td>\n",
       "      <td>22.100</td>\n",
       "      <td>38.2400</td>\n",
       "      <td>362.21</td>\n",
       "    </tr>\n",
       "    <tr>\n",
       "      <th>NOx</th>\n",
       "      <td>22993.0</td>\n",
       "      <td>32.289012</td>\n",
       "      <td>30.712855</td>\n",
       "      <td>0.00</td>\n",
       "      <td>13.1100</td>\n",
       "      <td>23.680</td>\n",
       "      <td>40.1700</td>\n",
       "      <td>378.24</td>\n",
       "    </tr>\n",
       "    <tr>\n",
       "      <th>NH3</th>\n",
       "      <td>18314.0</td>\n",
       "      <td>23.848366</td>\n",
       "      <td>25.875981</td>\n",
       "      <td>0.01</td>\n",
       "      <td>8.9600</td>\n",
       "      <td>16.310</td>\n",
       "      <td>30.3600</td>\n",
       "      <td>352.89</td>\n",
       "    </tr>\n",
       "    <tr>\n",
       "      <th>CO</th>\n",
       "      <td>24405.0</td>\n",
       "      <td>2.345267</td>\n",
       "      <td>7.075208</td>\n",
       "      <td>0.00</td>\n",
       "      <td>0.5900</td>\n",
       "      <td>0.930</td>\n",
       "      <td>1.4800</td>\n",
       "      <td>175.81</td>\n",
       "    </tr>\n",
       "    <tr>\n",
       "      <th>SO2</th>\n",
       "      <td>24245.0</td>\n",
       "      <td>14.362933</td>\n",
       "      <td>17.428693</td>\n",
       "      <td>0.01</td>\n",
       "      <td>5.7300</td>\n",
       "      <td>9.220</td>\n",
       "      <td>15.1400</td>\n",
       "      <td>186.08</td>\n",
       "    </tr>\n",
       "    <tr>\n",
       "      <th>O3</th>\n",
       "      <td>24043.0</td>\n",
       "      <td>34.912885</td>\n",
       "      <td>21.724525</td>\n",
       "      <td>0.01</td>\n",
       "      <td>19.2500</td>\n",
       "      <td>31.250</td>\n",
       "      <td>46.0800</td>\n",
       "      <td>257.73</td>\n",
       "    </tr>\n",
       "    <tr>\n",
       "      <th>Benzene</th>\n",
       "      <td>21315.0</td>\n",
       "      <td>3.458668</td>\n",
       "      <td>16.036020</td>\n",
       "      <td>0.00</td>\n",
       "      <td>0.2300</td>\n",
       "      <td>1.290</td>\n",
       "      <td>3.3400</td>\n",
       "      <td>455.03</td>\n",
       "    </tr>\n",
       "    <tr>\n",
       "      <th>Toluene</th>\n",
       "      <td>19024.0</td>\n",
       "      <td>9.525714</td>\n",
       "      <td>20.881085</td>\n",
       "      <td>0.00</td>\n",
       "      <td>1.0275</td>\n",
       "      <td>3.575</td>\n",
       "      <td>10.1800</td>\n",
       "      <td>454.85</td>\n",
       "    </tr>\n",
       "    <tr>\n",
       "      <th>Xylene</th>\n",
       "      <td>9478.0</td>\n",
       "      <td>3.588683</td>\n",
       "      <td>6.754324</td>\n",
       "      <td>0.00</td>\n",
       "      <td>0.3900</td>\n",
       "      <td>1.420</td>\n",
       "      <td>4.1200</td>\n",
       "      <td>170.37</td>\n",
       "    </tr>\n",
       "    <tr>\n",
       "      <th>AQI</th>\n",
       "      <td>24850.0</td>\n",
       "      <td>166.463581</td>\n",
       "      <td>140.696585</td>\n",
       "      <td>13.00</td>\n",
       "      <td>81.0000</td>\n",
       "      <td>118.000</td>\n",
       "      <td>208.0000</td>\n",
       "      <td>2049.00</td>\n",
       "    </tr>\n",
       "  </tbody>\n",
       "</table>\n",
       "</div>"
      ],
      "text/plain": [
       "           count        mean         std    min      25%      50%       75%  \\\n",
       "PM2.5    24172.0   67.476613   63.075398   0.04  29.0000   48.785   80.9250   \n",
       "PM10     17764.0  118.454435   89.487976   0.03  56.7775   96.180  150.1825   \n",
       "NO       24463.0   17.622421   22.421138   0.03   5.6600    9.910   20.0300   \n",
       "NO2      24459.0   28.978391   24.627054   0.01  11.9400   22.100   38.2400   \n",
       "NOx      22993.0   32.289012   30.712855   0.00  13.1100   23.680   40.1700   \n",
       "NH3      18314.0   23.848366   25.875981   0.01   8.9600   16.310   30.3600   \n",
       "CO       24405.0    2.345267    7.075208   0.00   0.5900    0.930    1.4800   \n",
       "SO2      24245.0   14.362933   17.428693   0.01   5.7300    9.220   15.1400   \n",
       "O3       24043.0   34.912885   21.724525   0.01  19.2500   31.250   46.0800   \n",
       "Benzene  21315.0    3.458668   16.036020   0.00   0.2300    1.290    3.3400   \n",
       "Toluene  19024.0    9.525714   20.881085   0.00   1.0275    3.575   10.1800   \n",
       "Xylene    9478.0    3.588683    6.754324   0.00   0.3900    1.420    4.1200   \n",
       "AQI      24850.0  166.463581  140.696585  13.00  81.0000  118.000  208.0000   \n",
       "\n",
       "             max  \n",
       "PM2.5     914.94  \n",
       "PM10      917.08  \n",
       "NO        390.68  \n",
       "NO2       362.21  \n",
       "NOx       378.24  \n",
       "NH3       352.89  \n",
       "CO        175.81  \n",
       "SO2       186.08  \n",
       "O3        257.73  \n",
       "Benzene   455.03  \n",
       "Toluene   454.85  \n",
       "Xylene    170.37  \n",
       "AQI      2049.00  "
      ]
     },
     "execution_count": 31,
     "metadata": {},
     "output_type": "execute_result"
    }
   ],
   "source": [
    "df.describe().T #T--> transpose"
   ]
  },
  {
   "cell_type": "code",
   "execution_count": 32,
   "id": "95c49c59-2025-4d75-aa30-040ead2c66c0",
   "metadata": {},
   "outputs": [
    {
     "data": {
      "text/plain": [
       "Xylene        61.859155\n",
       "PM10          28.515091\n",
       "NH3           26.301811\n",
       "Toluene       23.444668\n",
       "Benzene       14.225352\n",
       "NOx            7.472837\n",
       "O3             3.247485\n",
       "PM2.5          2.728370\n",
       "SO2            2.434608\n",
       "CO             1.790744\n",
       "NO2            1.573441\n",
       "NO             1.557344\n",
       "City           0.000000\n",
       "Date           0.000000\n",
       "AQI            0.000000\n",
       "AQI_Bucket     0.000000\n",
       "dtype: float64"
      ]
     },
     "execution_count": 32,
     "metadata": {},
     "output_type": "execute_result"
    }
   ],
   "source": [
    "null_values_percentage=(df.isnull().sum()/df.isnull().count()*100).sort_values(ascending=False)\n",
    "null_values_percentage #checking percentage of null values"
   ]
  },
  {
   "cell_type": "markdown",
   "id": "562506ee-c66a-46b9-adbc-08e8fbe352e0",
   "metadata": {},
   "source": [
    "finding correlations between pollutants\n",
    "This identifies which pollutants impact AQI the most"
   ]
  },
  {
   "cell_type": "markdown",
   "id": "ab27e82c-ad42-4a4d-9a29-a1ba308cb530",
   "metadata": {},
   "source": [
    "checking aqi distribution by plotting histogram"
   ]
  },
  {
   "cell_type": "code",
   "execution_count": 23,
   "id": "a058045a-6a3d-4e64-8744-6fdaa98127f0",
   "metadata": {},
   "outputs": [
    {
     "data": {
      "image/png": "[encoded data removed]",
      "text/plain": [
       "<Figure size 1000x500 with 1 Axes>"
      ]
     },
     "metadata": {},
     "output_type": "display_data"
    }
   ],
   "source": [
    "plt.figure(figsize=(10,5))  # Creates a figure with a width of 10 and height of 5.  \n",
    "sns.histplot(df[\"AQI\"], bins=30, kde=True, color='blue')  # Plots a histogram of AQI with 30 bins, adds a KDE curve, and sets color to blue.  \n",
    "plt.title(\"Air Quality Index (AQI) Distribution\")  # Adds a title to the plot.  \n",
    "plt.xlabel(\"AQI\")  # Labels the X-axis as \"AQI\".  \n",
    "plt.ylabel(\"Frequency\")  # Labels the Y-axis as \"Frequency\".  \n",
    "plt.show()  # Displays the plot.  \n",
    "\n"
   ]
  },
  {
   "cell_type": "markdown",
   "id": "03a62ebc-5b7c-4255-924d-86a9512094a2",
   "metadata": {},
   "source": [
    "key considerations\n"
   ]
  },
  {
   "cell_type": "markdown",
   "id": "e231b750-e164-45ad-868f-c58356854c19",
   "metadata": {},
   "source": [
    "Xylene has the highest percentage of missing values - 61.86%, PM10 has 28.6% and NH3 has 26.3%"
   ]
  },
  {
   "cell_type": "code",
   "execution_count": null,
   "id": "80c0238e-274e-4051-a3a8-bac9b37be037",
   "metadata": {},
   "outputs": [],
   "source": []
  }
 ],
 "metadata": {
  "kernelspec": {
   "display_name": "Python 3 (ipykernel)",
   "language": "python",
   "name": "python3"
  },
  "language_info": {
   "codemirror_mode": {
    "name": "ipython",
    "version": 3
   },
   "file_extension": ".py",
   "mimetype": "text/x-python",
   "name": "python",
   "nbconvert_exporter": "python",
   "pygments_lexer": "ipython3",
   "version": "3.10.9"
  }
 },
 "nbformat": 4,
 "nbformat_minor": 5
}
